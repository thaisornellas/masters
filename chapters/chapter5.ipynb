{
 "cells": [
  {
   "cell_type": "markdown",
   "metadata": {},
   "source": [
    "# Statistics: a Guide to the use of Statistical Methods in the Physical Sciences\n",
    "\n",
    "### Chapter 5"
   ]
  },
  {
   "cell_type": "markdown",
   "metadata": {},
   "source": [
    "An **estimator** must be consistent, unbiased and efficient."
   ]
  },
  {
   "cell_type": "code",
   "execution_count": 1,
   "metadata": {},
   "outputs": [],
   "source": [
    "import scripts.functions as f"
   ]
  },
  {
   "cell_type": "markdown",
   "metadata": {},
   "source": [
    "An estimator is **consistent** if it tends to the true value as the number of data values tens to infinity:\n",
    "$$\n",
    "\\lim_{N \\rightarrow \\infty} â = a\n",
    "$$\n",
    "\n",
    "An estimator is **unbiased** if its expectation value is equal to the true value:\n",
    "$$\n",
    "\\langle â \\rangle = a\n",
    "$$\n",
    "\n",
    "An estimator is **efficient** if its variance is small."
   ]
  },
  {
   "cell_type": "markdown",
   "metadata": {},
   "source": [
    "#### Likelihood\n",
    "$$\n",
    "L(x_1, x_2,...,x_N, a) = \\prod_{i=1}^N P(x_i, a)\n",
    "$$"
   ]
  },
  {
   "cell_type": "markdown",
   "metadata": {},
   "source": [
    "#### Minimum Variance Bound\n",
    "\n",
    "$$\n",
    "V(â) \\geq \\frac{1}{\\langle (\\frac{dlnL}{da})^2 \\rangle} \n",
    "$$"
   ]
  },
  {
   "cell_type": "markdown",
   "metadata": {},
   "source": [
    "#### Problems\n",
    "\n",
    "Problem 2:"
   ]
  },
  {
   "cell_type": "code",
   "execution_count": 9,
   "metadata": {},
   "outputs": [
    {
     "name": "stdout",
     "output_type": "stream",
     "text": [
      "a)20.21, 0.3\n",
      "b)0.87, 0.23\n",
      "c)0.91, 0.26\n",
      "d)0.34\n"
     ]
    }
   ],
   "source": [
    "x = [20.0, 19.7, 20.6, 18.5, 21.2, 20.8, 20.7]\n",
    "print(f\"a){round(f.mean(x),2)}, {round(f.std_of_mean(0.8, x), 2)}\")\n",
    "print(f\"b){round(f.standard_deviation(x, 20.0), 2)}, {round(f.std_of_std(f.standard_deviation(x, 20.0), x), 2)}\")\n",
    "print(f\"c){round(f.s(x), 2)}, {round(f.std_of_std2(f.s(x), x), 2)}\")\n",
    "print(f\"d){round(f.std_of_mean(f.s(x), x), 2)}\")"
   ]
  }
 ],
 "metadata": {
  "kernelspec": {
   "display_name": "Python (base)",
   "language": "python",
   "name": "base"
  },
  "language_info": {
   "codemirror_mode": {
    "name": "ipython",
    "version": 3
   },
   "file_extension": ".py",
   "mimetype": "text/x-python",
   "name": "python",
   "nbconvert_exporter": "python",
   "pygments_lexer": "ipython3",
   "version": "3.12.7"
  }
 },
 "nbformat": 4,
 "nbformat_minor": 2
}
