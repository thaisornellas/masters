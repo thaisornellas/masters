{
 "cells": [
  {
   "cell_type": "markdown",
   "metadata": {},
   "source": [
    "# Statistics: a Guide to the use of Statistical Methods in the Physical Sciences\n",
    "\n",
    "### Chapter 6"
   ]
  },
  {
   "cell_type": "code",
   "execution_count": 1,
   "metadata": {},
   "outputs": [],
   "source": [
    "import sys\n",
    "import os\n",
    "sys.path.append(os.path.abspath(\"..\"))\n",
    "\n",
    "import numpy as np\n",
    "import scripts.functions as f\n",
    "\n",
    "%load_ext autoreload\n",
    "%autoreload 2"
   ]
  },
  {
   "cell_type": "markdown",
   "metadata": {},
   "source": [
    "The **least squares** is a method of estimation to determine unknown parameters from a set of data. \n",
    "\n",
    "$$\n",
    "\\chi^2 = \\sum^N_{i = 1} \\left[\\frac{y_i - f(x_i;a)}{\\sigma_i} \\right]^2\n",
    "$$\n",
    "\n",
    "The unknown parameter $a$ is in the function $f(x;a)$ which predicts the value of $y$ for any $x$. The data are a set of $N$ precise values of $x - \\{x_1,x_2,...x_N\\}$ with corresponding set of measurements of $y-\\{y_1, y_2,..., y_N\\}$ measured with some accuracy $\\sigma_i$. The parameter $a$ is the value which gives the smallest $\\chi^2$\n",
    "\n",
    "$$\n",
    "\\frac{d\\chi^2}{da} = 0\n",
    "$$"
   ]
  },
  {
   "cell_type": "markdown",
   "metadata": {},
   "source": [
    "For a gaussian distribution \n",
    "$$\n",
    "- 2 \\ln{L} = \\chi^2\n",
    "$$"
   ]
  },
  {
   "cell_type": "markdown",
   "metadata": {},
   "source": [
    "#### Problems\n",
    "\n",
    "Problem 1:"
   ]
  },
  {
   "cell_type": "code",
   "execution_count": 3,
   "metadata": {},
   "outputs": [
    {
     "name": "stdout",
     "output_type": "stream",
     "text": [
      "10.1±0.2\n",
      "3\n"
     ]
    }
   ],
   "source": [
    "t = [0.0, 1.0, 2.0, 3.0, 4.0, 5.0, 6.0]\n",
    "d = [0.0, 11, 19, 33, 40, 49, 61]\n",
    "sigma = 2.0\n",
    "\n",
    "velocity = f.ls_simple(t,d)\n",
    "variance = f.ls_simple_var(t, sigma)\n",
    "\n",
    "fx = [velocity * t_i for t_i in t]\n",
    "chi2 = f.chi2(d, fx, sigma)\n",
    "\n",
    "print(f\"{round(velocity, 2)}±{round(np.sqrt(variance), 1)}\")\n",
    "print(round(chi2))"
   ]
  },
  {
   "cell_type": "markdown",
   "metadata": {},
   "source": [
    "Problem 2"
   ]
  },
  {
   "cell_type": "code",
   "execution_count": null,
   "metadata": {},
   "outputs": [
    {
     "name": "stdout",
     "output_type": "stream",
     "text": [
      "10.1±0.1\n",
      "10.6\n"
     ]
    }
   ],
   "source": [
    "t_2 = [1.1, 2.2, 2.9, 4.1, 5.0, 5.8]\n",
    "d_2 = [10, 20, 30, 40, 50, 60]\n",
    "sigma_2 = 0.1\n",
    "\n",
    "# given this situation, for y = mx, y -> t and x -> d since sigma is a error of t, so m = 1 / velocity\n",
    "m = f.ls_simple(d_2, t_2)\n",
    "velocity_2 = 1 / m\n",
    "variance_m = f.ls_simple_var(d_2, sigma_2)\n",
    "variance_v = variance_m / m**4 # from the law of combination of errors\n",
    "fx_2 = [d_2i * m for d_2i in d_2] # f(x;a) = d*m\n",
    "chi2_2 = f.chi2(t_2, fx_2, sigma_2)\n",
    "\n",
    "print(f\"{round(velocity_2, 1)}±{round(np.sqrt(variance_v), 1)}\")\n",
    "print(round(chi2_2, 2))"
   ]
  }
 ],
 "metadata": {
  "kernelspec": {
   "display_name": "base",
   "language": "python",
   "name": "python3"
  },
  "language_info": {
   "codemirror_mode": {
    "name": "ipython",
    "version": 3
   },
   "file_extension": ".py",
   "mimetype": "text/x-python",
   "name": "python",
   "nbconvert_exporter": "python",
   "pygments_lexer": "ipython3",
   "version": "3.12.7"
  }
 },
 "nbformat": 4,
 "nbformat_minor": 2
}
