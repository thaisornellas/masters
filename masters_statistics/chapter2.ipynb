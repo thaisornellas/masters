{
 "cells": [
  {
   "cell_type": "markdown",
   "metadata": {},
   "source": [
    "# Statistics: a Guide to the use of Statistical Methods in the Physical Sciences\n",
    "\n",
    "### Chapter 2"
   ]
  },
  {
   "cell_type": "code",
   "execution_count": 7,
   "metadata": {},
   "outputs": [],
   "source": [
    "import numpy as np\n",
    "import scripts.mean_and_covariance as m\n",
    "import matplotlib.pyplot as plt"
   ]
  },
  {
   "cell_type": "markdown",
   "metadata": {},
   "source": [
    "Checking the validity of the functions"
   ]
  },
  {
   "cell_type": "code",
   "execution_count": 3,
   "metadata": {},
   "outputs": [
    {
     "name": "stdout",
     "output_type": "stream",
     "text": [
      "MEAN: this work: 37.5, numpy: 37.5\n",
      "STANDARD DEVIATION: this work: 14.16642156650719, numpy: 14.16642156650719\n"
     ]
    }
   ],
   "source": [
    "x = [22, 48, 76, 10, 22, 4, 68, 44, 10, 76, 14, 56]\n",
    "y = [63, 39, 61, 30, 51, 44, 74, 78, 55, 58, 41, 69]\n",
    "\n",
    "mean = m.mean(x)\n",
    "mean_np = np.mean(x)\n",
    "\n",
    "cov = m.cov_matrix(x, y)\n",
    "cov_np = np.cov(x, y)\n",
    "\n",
    "std = m.standard_deviation(y)\n",
    "std_np = np.std(y)\n",
    "\n",
    "print(f\"MEAN: this work: {mean}, numpy: {mean_np}\")\n",
    "#print(\"COVARIANCE: this work:\") \n",
    "#print(cov)\n",
    "#print(\"COVARIANCE: numpy:\")\n",
    "#print(cov_np)\n",
    "print(f\"STANDARD DEVIATION: this work: {std}, numpy: {std_np}\")"
   ]
  },
  {
   "cell_type": "markdown",
   "metadata": {},
   "source": [
    "#### Problems\n",
    "\n",
    "Problem 1:"
   ]
  },
  {
   "cell_type": "code",
   "execution_count": 4,
   "metadata": {},
   "outputs": [
    {
     "data": {
      "text/plain": [
       "0.4966427934363001"
      ]
     },
     "execution_count": 4,
     "metadata": {},
     "output_type": "execute_result"
    }
   ],
   "source": [
    "ages = [19.0, 18.7, 19.3, 19.2, 18.9, 19.0, 20.2, 19.9, 18.6, 19.4, 19.3, 19.2, 18.7, 18.5, 18.6, 19.7, 19.9, 20.0, 19.5, 19.4, 19.6, 20.0, 18.9]\n",
    "m.standard_deviation(ages)"
   ]
  },
  {
   "cell_type": "markdown",
   "metadata": {},
   "source": [
    "Problem 2:"
   ]
  },
  {
   "cell_type": "code",
   "execution_count": 5,
   "metadata": {},
   "outputs": [
    {
     "data": {
      "text/plain": [
       "3.573627844673004"
      ]
     },
     "execution_count": 5,
     "metadata": {},
     "output_type": "execute_result"
    }
   ],
   "source": [
    "ages_2 = [19.0, 18.7, 19.3, 19.2, 18.9, 19.0, 20.2, 19.9, 18.6, 19.4, 19.3, 19.2, 18.7, 18.5, 18.6, 19.7, 19.9, 20.0, 19.5, 19.4, 19.6, 20.0, 18.9, 37.0]\n",
    "m.standard_deviation(ages_2)"
   ]
  },
  {
   "cell_type": "markdown",
   "metadata": {},
   "source": [
    "Problem 6:"
   ]
  },
  {
   "cell_type": "code",
   "execution_count": null,
   "metadata": {},
   "outputs": [
    {
     "data": {
      "text/plain": [
       "<function matplotlib.pyplot.show(close=None, block=None)>"
      ]
     },
     "execution_count": 17,
     "metadata": {},
     "output_type": "execute_result"
    },
    {
     "data": {
      "image/png": "[encoded data removed]",
      "text/plain": [
       "<Figure size 640x480 with 1 Axes>"
      ]
     },
     "metadata": {},
     "output_type": "display_data"
    }
   ],
   "source": [
    "numbers = [90, 90, 79, 84, 78, 91, 88, 90, 85, 80, 88, 75, 73, 79, 78, 79, 67, 83, 68, 60, 73, 79, 69, 74, 76, 68, 72, 72, 75, 60, 61, 66, 66, 54, 71, 67, 75, 49, 51, 57, 62, 64, 68, 58, 56, 79, 63, 68, 64, 51, 58, 53, 65, 57, 59, 65, 48, 54, 55, 40, 49, 42, 36, 46, 40, 37, 53, 48, 44, 43, 35, 39, 30, 41, 41, 22, 28, 36, 39, 51]\n",
    "\n",
    "plt.hist(numbers, bins=8, edgecolor='black')\n",
    "plt.show()\n"
   ]
  }
 ],
 "metadata": {
  "kernelspec": {
   "display_name": "base",
   "language": "python",
   "name": "python3"
  },
  "language_info": {
   "codemirror_mode": {
    "name": "ipython",
    "version": 3
   },
   "file_extension": ".py",
   "mimetype": "text/x-python",
   "name": "python",
   "nbconvert_exporter": "python",
   "pygments_lexer": "ipython3",
   "version": "3.12.2"
  }
 },
 "nbformat": 4,
 "nbformat_minor": 2
}
