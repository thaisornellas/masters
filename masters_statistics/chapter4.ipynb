{
 "cells": [
  {
   "cell_type": "markdown",
   "metadata": {},
   "source": [
    "# Statistics: a Guide to the use of Statistical Methods in the Physical Sciences\n",
    "\n",
    "### Chapter 4"
   ]
  },
  {
   "cell_type": "markdown",
   "metadata": {},
   "source": [
    "Here, we are interested in studying how the sample approaches a normal distribution as the sample size increases, as the **Central Limit Theorem** states."
   ]
  },
  {
   "cell_type": "code",
   "execution_count": 8,
   "metadata": {},
   "outputs": [],
   "source": [
    "import numpy as np\n",
    "import math\n",
    "import matplotlib.pyplot as plt"
   ]
  },
  {
   "cell_type": "markdown",
   "metadata": {},
   "source": [
    "Let's simulate an uniform distribution sample data"
   ]
  },
  {
   "cell_type": "code",
   "execution_count": 42,
   "metadata": {},
   "outputs": [
    {
     "data": {
      "image/png": "[encoded data removed]",
      "text/plain": [
       "<Figure size 640x480 with 1 Axes>"
      ]
     },
     "metadata": {},
     "output_type": "display_data"
    }
   ],
   "source": [
    "uniform_dist = np.random.uniform(size=10000)\n",
    "plt.hist(uniform_dist, bins=20, edgecolor='blue', alpha=0.7)\n",
    "plt.show()"
   ]
  },
  {
   "cell_type": "markdown",
   "metadata": {},
   "source": [
    "-- *Not a gaussian at all!!*. Now let's use the CLT."
   ]
  },
  {
   "cell_type": "code",
   "execution_count": 44,
   "metadata": {},
   "outputs": [],
   "source": [
    "def clt(data_array, n_samples, n_times): # pick n_samples from the data_array n_times\n",
    "    sample_mean = []\n",
    "    for i in range(n_times):\n",
    "        sample = np.random.choice(data_array, size=n_samples, replace=False)\n",
    "        mean_sample = np.sum(sample)\n",
    "        sample_mean.append(mean_sample)\n",
    "    return sample_mean"
   ]
  },
  {
   "cell_type": "code",
   "execution_count": 45,
   "metadata": {},
   "outputs": [
    {
     "data": {
      "text/plain": [
       "[]"
      ]
     },
     "execution_count": 45,
     "metadata": {},
     "output_type": "execute_result"
    },
    {
     "data": {
      "image/png": "[encoded data removed]",
      "text/plain": [
       "<Figure size 640x480 with 1 Axes>"
      ]
     },
     "metadata": {},
     "output_type": "display_data"
    }
   ],
   "source": [
    "dist = clt(uniform_dist, 1000, 1000)\n",
    "plt.hist(dist, bins=20, edgecolor='blue', alpha=0.7)\n",
    "plt.plot()"
   ]
  },
  {
   "cell_type": "markdown",
   "metadata": {},
   "source": [
    "### Errors\n",
    "Measurements of the same quantity but with different errors\n",
    "\n",
    "$$\n",
    "\\text{Average: }\\bar{x} = \\frac{\\sum x_i/\\sigma_i^2}{\\sum 1/\\sigma_i^2} \\\\\n",
    "\n",
    "\\text{Variance: }V(\\bar{x}) = \\frac{1}{\\sum 1 / \\sigma_i^2}\n",
    "$$"
   ]
  },
  {
   "cell_type": "code",
   "execution_count": 19,
   "metadata": {},
   "outputs": [],
   "source": [
    "def average(data):\n",
    "    return np.sum([i/j**2 for i, j in data]) / np.sum([1 / j**2 for _, j in data])\n",
    "\n",
    "def variance(data):\n",
    "    return 1 / np.sum([1/j**2 for _, j in data])"
   ]
  },
  {
   "cell_type": "markdown",
   "metadata": {},
   "source": [
    "#### Problems\n",
    "\n",
    "Problem 1:"
   ]
  },
  {
   "cell_type": "code",
   "execution_count": 10,
   "metadata": {},
   "outputs": [
    {
     "name": "stdout",
     "output_type": "stream",
     "text": [
      "0.31622776601683794 > 0.2mm, therefore, one measurement with resolution 0.2mm is preferable.\n"
     ]
    }
   ],
   "source": [
    "print(f\"{1/math.sqrt(10)} > {0.2}mm, therefore, one measurement with resolution 0.2mm is preferable.\")"
   ]
  },
  {
   "cell_type": "markdown",
   "metadata": {},
   "source": [
    "Problem 2:"
   ]
  },
  {
   "cell_type": "code",
   "execution_count": 20,
   "metadata": {},
   "outputs": [
    {
     "name": "stdout",
     "output_type": "stream",
     "text": [
      "299793105.82010585 ± 2909.571869813232\n"
     ]
    }
   ],
   "source": [
    "data = [(299798000, 5000), (299789000, 4000), (299797000, 8000)]\n",
    "measure_avg = average(data)\n",
    "std_avg = math.sqrt(variance(data))\n",
    "print(f\"{measure_avg} ± {std_avg}\")"
   ]
  },
  {
   "cell_type": "markdown",
   "metadata": {},
   "source": [
    "Problem 3:"
   ]
  },
  {
   "cell_type": "code",
   "execution_count": 23,
   "metadata": {},
   "outputs": [
    {
     "name": "stdout",
     "output_type": "stream",
     "text": [
      "299791149.70059884 ± 1754.8661417223705\n"
     ]
    }
   ],
   "source": [
    "data2 = [(299794000, 3000), (299791000, 5000), (299789000, 3000), (299790000, 4000)]\n",
    "measure_avg2 = average(data2)\n",
    "std_avg2 = math.sqrt(variance(data2))\n",
    "print(f\"{measure_avg2} ± {std_avg2}\")"
   ]
  },
  {
   "cell_type": "markdown",
   "metadata": {},
   "source": [
    "Problem 4:"
   ]
  },
  {
   "cell_type": "code",
   "execution_count": 29,
   "metadata": {},
   "outputs": [
    {
     "name": "stdout",
     "output_type": "stream",
     "text": [
      "1568 ± 36 volts\n"
     ]
    }
   ],
   "source": [
    "V = 1400 * 1.120\n",
    "error_V = V * math.sqrt((30 / 1400)**2 + (10 / 1120)**2)\n",
    "print(f\"{round(V)} ± {round(error_V)} volts\")"
   ]
  },
  {
   "cell_type": "markdown",
   "metadata": {},
   "source": [
    "Problem 5:"
   ]
  },
  {
   "cell_type": "code",
   "execution_count": 32,
   "metadata": {},
   "outputs": [
    {
     "name": "stdout",
     "output_type": "stream",
     "text": [
      "50 ± 1 mA\n"
     ]
    }
   ],
   "source": [
    "I = 45 / 900\n",
    "error_I = I * math.sqrt((1/45)**2 + (10/900)**2)\n",
    "print(f\"{round(I * 10**3)} ± {round(error_I * 10**3)} mA\")"
   ]
  }
 ],
 "metadata": {
  "kernelspec": {
   "display_name": "Python (base)",
   "language": "python",
   "name": "base"
  },
  "language_info": {
   "codemirror_mode": {
    "name": "ipython",
    "version": 3
   },
   "file_extension": ".py",
   "mimetype": "text/x-python",
   "name": "python",
   "nbconvert_exporter": "python",
   "pygments_lexer": "ipython3",
   "version": "3.12.7"
  }
 },
 "nbformat": 4,
 "nbformat_minor": 2
}
